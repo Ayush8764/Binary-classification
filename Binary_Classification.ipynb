{
  "nbformat": 4,
  "nbformat_minor": 0,
  "metadata": {
    "colab": {
      "name": "Binary Classification.ipynb",
      "provenance": [],
      "collapsed_sections": []
    },
    "kernelspec": {
      "name": "python3",
      "display_name": "Python 3"
    }
  },
  "cells": [
    {
      "cell_type": "code",
      "metadata": {
        "id": "9zIqSVZc88KB"
      },
      "source": [
        "# Titanic Dataset - Classification(Survived/Not Survived)"
      ],
      "execution_count": null,
      "outputs": []
    },
    {
      "cell_type": "code",
      "metadata": {
        "id": "YQ_O_cg89y-j"
      },
      "source": [
        "# In regression, loss function : mse,mae, Activation Function: Linear /Relu\n",
        "# In classification, loss function : Binary,categorical and Sparse, \n",
        "# Activation Function: Sigmoid / Softmax"
      ],
      "execution_count": null,
      "outputs": []
    },
    {
      "cell_type": "code",
      "metadata": {
        "id": "ymF90A0g9cLo"
      },
      "source": [
        "There are 2 categories:\n",
        "1. Binary Classification - 2 categories of output\n",
        "2. Multi-Class - More than 2 categories of output"
      ],
      "execution_count": null,
      "outputs": []
    },
    {
      "cell_type": "code",
      "metadata": {
        "id": "vE_VdrUk_yXO",
        "colab": {
          "base_uri": "https://localhost:8080/"
        },
        "outputId": "1c142be7-0fc3-4c74-d53b-87c7c2754858"
      },
      "source": [
        "# Demonstrating Sigmoid Curve\n",
        "# Range: 0 to 1\n",
        "# Data should be centered towards zero\n",
        "import matplotlib.pyplot as plt\n",
        "import numpy as np\n",
        "x = np.linspace(-20,20,100)\n",
        "y = 1/(1+np.exp(-x))\n",
        "y"
      ],
      "execution_count": null,
      "outputs": [
        {
          "output_type": "execute_result",
          "data": {
            "text/plain": [
              "array([2.06115362e-09, 3.08732876e-09, 4.62440004e-09, 6.92672447e-09,\n",
              "       1.03752944e-08, 1.55407847e-08, 2.32779890e-08, 3.48672722e-08,\n",
              "       5.22264472e-08, 7.82281373e-08, 1.17175143e-07, 1.75512472e-07,\n",
              "       2.62893872e-07, 3.93779338e-07, 5.89827961e-07, 8.83482085e-07,\n",
              "       1.32333584e-06, 1.98217642e-06, 2.96902870e-06, 4.44719601e-06,\n",
              "       6.66128213e-06, 9.97766470e-06, 1.49451152e-05, 2.23855904e-05,\n",
              "       3.35302067e-05, 5.02228667e-05, 7.52251664e-05, 1.12672884e-04,\n",
              "       1.68759242e-04, 2.52757236e-04, 3.78548446e-04, 5.66907423e-04,\n",
              "       8.48910885e-04, 1.27101626e-03, 1.90260614e-03, 2.84714919e-03,\n",
              "       4.25860705e-03, 6.36532037e-03, 9.50426753e-03, 1.41690589e-02,\n",
              "       2.10746635e-02, 3.12392175e-02, 4.60755062e-02, 6.74672091e-02,\n",
              "       9.77725999e-02, 1.39652183e-01, 1.95581668e-01, 2.66960083e-01,\n",
              "       3.52958350e-01, 4.49666020e-01, 5.50333980e-01, 6.47041650e-01,\n",
              "       7.33039917e-01, 8.04418332e-01, 8.60347817e-01, 9.02227400e-01,\n",
              "       9.32532791e-01, 9.53924494e-01, 9.68760783e-01, 9.78925337e-01,\n",
              "       9.85830941e-01, 9.90495732e-01, 9.93634680e-01, 9.95741393e-01,\n",
              "       9.97152851e-01, 9.98097394e-01, 9.98728984e-01, 9.99151089e-01,\n",
              "       9.99433093e-01, 9.99621452e-01, 9.99747243e-01, 9.99831241e-01,\n",
              "       9.99887327e-01, 9.99924775e-01, 9.99949777e-01, 9.99966470e-01,\n",
              "       9.99977614e-01, 9.99985055e-01, 9.99990022e-01, 9.99993339e-01,\n",
              "       9.99995553e-01, 9.99997031e-01, 9.99998018e-01, 9.99998677e-01,\n",
              "       9.99999117e-01, 9.99999410e-01, 9.99999606e-01, 9.99999737e-01,\n",
              "       9.99999824e-01, 9.99999883e-01, 9.99999922e-01, 9.99999948e-01,\n",
              "       9.99999965e-01, 9.99999977e-01, 9.99999984e-01, 9.99999990e-01,\n",
              "       9.99999993e-01, 9.99999995e-01, 9.99999997e-01, 9.99999998e-01])"
            ]
          },
          "metadata": {
            "tags": []
          },
          "execution_count": 11
        }
      ]
    },
    {
      "cell_type": "code",
      "metadata": {
        "id": "pIg-2AOsAbUn",
        "colab": {
          "base_uri": "https://localhost:8080/",
          "height": 282
        },
        "outputId": "5aa31517-9eef-454d-8a27-c582ee1c2b77"
      },
      "source": [
        "plt.plot(x,y)"
      ],
      "execution_count": null,
      "outputs": [
        {
          "output_type": "execute_result",
          "data": {
            "text/plain": [
              "[<matplotlib.lines.Line2D at 0x7fb89b7645c0>]"
            ]
          },
          "metadata": {
            "tags": []
          },
          "execution_count": 10
        },
        {
          "output_type": "display_data",
          "data": {
            "image/png": "[encoded data removed]",
            "text/plain": [
              "<Figure size 432x288 with 1 Axes>"
            ]
          },
          "metadata": {
            "tags": [],
            "needs_background": "light"
          }
        }
      ]
    },
    {
      "cell_type": "code",
      "metadata": {
        "id": "hXacbcD_AzVP"
      },
      "source": [
        "# If value >=0.5 , then it is 1\n",
        "# if value <0.5, then it is zero"
      ],
      "execution_count": null,
      "outputs": []
    },
    {
      "cell_type": "code",
      "metadata": {
        "id": "Yn_R-GroBuua"
      },
      "source": [
        "# Sigmoid(0,1) and Tanh(-1,1) are not preferable in Hidden layers.\n",
        "# Vanishing Gradient Problem"
      ],
      "execution_count": null,
      "outputs": []
    },
    {
      "cell_type": "code",
      "metadata": {
        "id": "gZ89Rcq5D2BL"
      },
      "source": [
        "# API - Application Programming Interface\n",
        "# Joins 2 softwares\n"
      ],
      "execution_count": null,
      "outputs": []
    },
    {
      "cell_type": "code",
      "metadata": {
        "id": "qp1RESKHF0A8"
      },
      "source": [
        "import os\n",
        "os.environ['KAGGLE_CONFIG_DIR'] = '/content'"
      ],
      "execution_count": null,
      "outputs": []
    },
    {
      "cell_type": "code",
      "metadata": {
        "id": "Sax_82mFGKLU",
        "colab": {
          "base_uri": "https://localhost:8080/"
        },
        "outputId": "9c5ffc9b-483f-461f-a1f1-3fbe33f90be1"
      },
      "source": [
        "!kaggle datasets download -d uciml/pima-indians-diabetes-database"
      ],
      "execution_count": null,
      "outputs": [
        {
          "output_type": "stream",
          "text": [
            "Warning: Your Kaggle API key is readable by other users on this system! To fix this, you can run 'chmod 600 /content/kaggle.json'\n",
            "Downloading pima-indians-diabetes-database.zip to /content\n",
            "  0% 0.00/8.91k [00:00<?, ?B/s]\n",
            "100% 8.91k/8.91k [00:00<00:00, 16.8MB/s]\n"
          ],
          "name": "stdout"
        }
      ]
    },
    {
      "cell_type": "code",
      "metadata": {
        "id": "k2RLqeEWGSLF",
        "colab": {
          "base_uri": "https://localhost:8080/"
        },
        "outputId": "a6b82b9b-2935-4e4f-b6fc-f3a31d79be39"
      },
      "source": [
        "!unzip /content/pima-indians-diabetes-database.zip"
      ],
      "execution_count": null,
      "outputs": [
        {
          "output_type": "stream",
          "text": [
            "Archive:  /content/pima-indians-diabetes-database.zip\n",
            "  inflating: diabetes.csv            \n"
          ],
          "name": "stdout"
        }
      ]
    },
    {
      "cell_type": "code",
      "metadata": {
        "id": "ywCBFLUtGhd6",
        "colab": {
          "base_uri": "https://localhost:8080/",
          "height": 195
        },
        "outputId": "103d15e1-67c9-4c22-ceb6-101383c89730"
      },
      "source": [
        "import pandas as pd\n",
        "df = pd.read_csv('diabetes.csv')\n",
        "df.head()"
      ],
      "execution_count": null,
      "outputs": [
        {
          "output_type": "execute_result",
          "data": {
            "text/html": [
              "<div>\n",
              "<style scoped>\n",
              "    .dataframe tbody tr th:only-of-type {\n",
              "        vertical-align: middle;\n",
              "    }\n",
              "\n",
              "    .dataframe tbody tr th {\n",
              "        vertical-align: top;\n",
              "    }\n",
              "\n",
              "    .dataframe thead th {\n",
              "        text-align: right;\n",
              "    }\n",
              "</style>\n",
              "<table border=\"1\" class=\"dataframe\">\n",
              "  <thead>\n",
              "    <tr style=\"text-align: right;\">\n",
              "      <th></th>\n",
              "      <th>Pregnancies</th>\n",
              "      <th>Glucose</th>\n",
              "      <th>BloodPressure</th>\n",
              "      <th>SkinThickness</th>\n",
              "      <th>Insulin</th>\n",
              "      <th>BMI</th>\n",
              "      <th>DiabetesPedigreeFunction</th>\n",
              "      <th>Age</th>\n",
              "      <th>Outcome</th>\n",
              "    </tr>\n",
              "  </thead>\n",
              "  <tbody>\n",
              "    <tr>\n",
              "      <th>0</th>\n",
              "      <td>6</td>\n",
              "      <td>148</td>\n",
              "      <td>72</td>\n",
              "      <td>35</td>\n",
              "      <td>0</td>\n",
              "      <td>33.6</td>\n",
              "      <td>0.627</td>\n",
              "      <td>50</td>\n",
              "      <td>1</td>\n",
              "    </tr>\n",
              "    <tr>\n",
              "      <th>1</th>\n",
              "      <td>1</td>\n",
              "      <td>85</td>\n",
              "      <td>66</td>\n",
              "      <td>29</td>\n",
              "      <td>0</td>\n",
              "      <td>26.6</td>\n",
              "      <td>0.351</td>\n",
              "      <td>31</td>\n",
              "      <td>0</td>\n",
              "    </tr>\n",
              "    <tr>\n",
              "      <th>2</th>\n",
              "      <td>8</td>\n",
              "      <td>183</td>\n",
              "      <td>64</td>\n",
              "      <td>0</td>\n",
              "      <td>0</td>\n",
              "      <td>23.3</td>\n",
              "      <td>0.672</td>\n",
              "      <td>32</td>\n",
              "      <td>1</td>\n",
              "    </tr>\n",
              "    <tr>\n",
              "      <th>3</th>\n",
              "      <td>1</td>\n",
              "      <td>89</td>\n",
              "      <td>66</td>\n",
              "      <td>23</td>\n",
              "      <td>94</td>\n",
              "      <td>28.1</td>\n",
              "      <td>0.167</td>\n",
              "      <td>21</td>\n",
              "      <td>0</td>\n",
              "    </tr>\n",
              "    <tr>\n",
              "      <th>4</th>\n",
              "      <td>0</td>\n",
              "      <td>137</td>\n",
              "      <td>40</td>\n",
              "      <td>35</td>\n",
              "      <td>168</td>\n",
              "      <td>43.1</td>\n",
              "      <td>2.288</td>\n",
              "      <td>33</td>\n",
              "      <td>1</td>\n",
              "    </tr>\n",
              "  </tbody>\n",
              "</table>\n",
              "</div>"
            ],
            "text/plain": [
              "   Pregnancies  Glucose  BloodPressure  ...  DiabetesPedigreeFunction  Age  Outcome\n",
              "0            6      148             72  ...                     0.627   50        1\n",
              "1            1       85             66  ...                     0.351   31        0\n",
              "2            8      183             64  ...                     0.672   32        1\n",
              "3            1       89             66  ...                     0.167   21        0\n",
              "4            0      137             40  ...                     2.288   33        1\n",
              "\n",
              "[5 rows x 9 columns]"
            ]
          },
          "metadata": {
            "tags": []
          },
          "execution_count": 29
        }
      ]
    },
    {
      "cell_type": "code",
      "metadata": {
        "id": "FgKL9pkWGpsx"
      },
      "source": [
        "# Reference Link : https://www.youtube.com/watch?v=gwDOUuBH7ws"
      ],
      "execution_count": null,
      "outputs": []
    },
    {
      "cell_type": "code",
      "metadata": {
        "id": "YYY9B4YtG9W9",
        "colab": {
          "base_uri": "https://localhost:8080/"
        },
        "outputId": "d638825c-20ed-4c57-8f81-0b6ad2977e29"
      },
      "source": [
        "df.nunique()"
      ],
      "execution_count": null,
      "outputs": [
        {
          "output_type": "execute_result",
          "data": {
            "text/plain": [
              "Pregnancies                  17\n",
              "Glucose                     136\n",
              "BloodPressure                47\n",
              "SkinThickness                51\n",
              "Insulin                     186\n",
              "BMI                         248\n",
              "DiabetesPedigreeFunction    517\n",
              "Age                          52\n",
              "Outcome                       2\n",
              "dtype: int64"
            ]
          },
          "metadata": {
            "tags": []
          },
          "execution_count": 31
        }
      ]
    },
    {
      "cell_type": "code",
      "metadata": {
        "id": "mQQVHsWUH_KM",
        "colab": {
          "base_uri": "https://localhost:8080/"
        },
        "outputId": "a501aaa2-86f6-4692-94d6-3330789f8c6d"
      },
      "source": [
        "df['Outcome'].value_counts()"
      ],
      "execution_count": null,
      "outputs": [
        {
          "output_type": "execute_result",
          "data": {
            "text/plain": [
              "0    500\n",
              "1    268\n",
              "Name: Outcome, dtype: int64"
            ]
          },
          "metadata": {
            "tags": []
          },
          "execution_count": 32
        }
      ]
    },
    {
      "cell_type": "code",
      "metadata": {
        "id": "SNhU9QmUIIWq",
        "colab": {
          "base_uri": "https://localhost:8080/"
        },
        "outputId": "91f5dca7-1cfd-455a-daa7-0b44180759a2"
      },
      "source": [
        "df.shape"
      ],
      "execution_count": null,
      "outputs": [
        {
          "output_type": "execute_result",
          "data": {
            "text/plain": [
              "(768, 9)"
            ]
          },
          "metadata": {
            "tags": []
          },
          "execution_count": 33
        }
      ]
    },
    {
      "cell_type": "code",
      "metadata": {
        "id": "uBK0wHGnIURi"
      },
      "source": [
        "x = df.iloc[:,0:8].values\n",
        "y = df.iloc[:,8].values"
      ],
      "execution_count": null,
      "outputs": []
    },
    {
      "cell_type": "code",
      "metadata": {
        "id": "--eS0KshKHjf",
        "colab": {
          "base_uri": "https://localhost:8080/"
        },
        "outputId": "40667e5c-3234-48b1-f0d4-581440529ab4"
      },
      "source": [
        "import random\n",
        "random.seed(0)\n",
        "random.randint(1,10)"
      ],
      "execution_count": null,
      "outputs": [
        {
          "output_type": "execute_result",
          "data": {
            "text/plain": [
              "7"
            ]
          },
          "metadata": {
            "tags": []
          },
          "execution_count": 35
        }
      ]
    },
    {
      "cell_type": "code",
      "metadata": {
        "id": "_cPCuZwKIijN"
      },
      "source": [
        "from sklearn.model_selection import train_test_split\n",
        "import numpy as np\n",
        "a = np.arange(100)\n",
        "a_train,a_test = train_test_split(a,random_state=0)"
      ],
      "execution_count": null,
      "outputs": []
    },
    {
      "cell_type": "code",
      "metadata": {
        "id": "sARdir_PJk5h",
        "colab": {
          "base_uri": "https://localhost:8080/"
        },
        "outputId": "f45813d5-b442-4bde-ae85-12d10ca1e572"
      },
      "source": [
        "a_train"
      ],
      "execution_count": null,
      "outputs": [
        {
          "output_type": "execute_result",
          "data": {
            "text/plain": [
              "array([48,  6, 99, 82, 76, 60, 80, 90, 68, 51, 27, 18, 56, 63, 74,  1, 61,\n",
              "       42, 41,  4, 15, 17, 40, 38,  5, 91, 59,  0, 34, 28, 50, 11, 35, 23,\n",
              "       52, 10, 31, 66, 57, 79, 85, 32, 84, 14, 89, 19, 29, 49, 97, 98, 69,\n",
              "       20, 94, 72, 77, 25, 37, 81, 46, 39, 65, 58, 12, 88, 70, 87, 36, 21,\n",
              "       83,  9, 96, 67, 64, 47, 44])"
            ]
          },
          "metadata": {
            "tags": []
          },
          "execution_count": 37
        }
      ]
    },
    {
      "cell_type": "code",
      "metadata": {
        "id": "hXNwpPrOJ9VU"
      },
      "source": [
        "x_train,x_test,y_train,y_test = train_test_split(x,y,random_state=0)"
      ],
      "execution_count": null,
      "outputs": []
    },
    {
      "cell_type": "code",
      "metadata": {
        "id": "RSlQftkTKoyW",
        "colab": {
          "base_uri": "https://localhost:8080/"
        },
        "outputId": "406349f0-490d-41ff-8df5-e16aae8da924"
      },
      "source": [
        "print(x_train[0])\n",
        "print(x_test[0])"
      ],
      "execution_count": null,
      "outputs": [
        {
          "output_type": "stream",
          "text": [
            "[ 9.    89.    62.     0.     0.    22.5    0.142 33.   ]\n",
            "[  1.    199.     76.     43.      0.     42.9     1.394  22.   ]\n"
          ],
          "name": "stdout"
        }
      ]
    },
    {
      "cell_type": "code",
      "metadata": {
        "id": "aQAuNAJzOeSw"
      },
      "source": [
        "# Normalization/Standardization is done only for input\n",
        "from sklearn.preprocessing import MinMaxScaler\n",
        "scale = MinMaxScaler()\n",
        "x_train = scale.fit_transform(x_train)\n",
        "x_test = scale.transform(x_test)"
      ],
      "execution_count": null,
      "outputs": []
    },
    {
      "cell_type": "code",
      "metadata": {
        "id": "PZAwr9m6Yr7y",
        "colab": {
          "base_uri": "https://localhost:8080/"
        },
        "outputId": "4f219abc-3021-4647-e0fe-adf4a54c14d6"
      },
      "source": [
        "x_train[0]"
      ],
      "execution_count": null,
      "outputs": [
        {
          "output_type": "execute_result",
          "data": {
            "text/plain": [
              "array([0.52941176, 0.44949495, 0.50819672, 0.        , 0.        ,\n",
              "       0.33532042, 0.02732707, 0.2       ])"
            ]
          },
          "metadata": {
            "tags": []
          },
          "execution_count": 41
        }
      ]
    },
    {
      "cell_type": "code",
      "metadata": {
        "id": "gQn2E34HKssl"
      },
      "source": [
        "import tensorflow as tf\n",
        "import tensorflow.keras as keras"
      ],
      "execution_count": null,
      "outputs": []
    },
    {
      "cell_type": "code",
      "metadata": {
        "id": "HakSncgDaCSa"
      },
      "source": [
        "model = keras.Sequential()\n",
        "model.add(keras.layers.Dense(units = 8,activation='relu')) # Hidden Layer\n",
        "model.add(keras.layers.Dense(units = 1,activation='sigmoid')) # Output Layer"
      ],
      "execution_count": null,
      "outputs": []
    },
    {
      "cell_type": "code",
      "metadata": {
        "id": "iyvoB2AUccBQ"
      },
      "source": [
        "model.compile(optimizer='adam',loss='binary_crossentropy',metrics='accuracy')"
      ],
      "execution_count": null,
      "outputs": []
    },
    {
      "cell_type": "code",
      "metadata": {
        "id": "1FvxmPFGcjJN",
        "colab": {
          "base_uri": "https://localhost:8080/"
        },
        "outputId": "f1ab7bdb-ab53-4906-a9c0-726c1f191b7d"
      },
      "source": [
        "history = model.fit(x_train,y_train,epochs=100)"
      ],
      "execution_count": null,
      "outputs": [
        {
          "output_type": "stream",
          "text": [
            "Epoch 1/100\n",
            "18/18 [==============================] - 0s 1ms/step - loss: 0.7029 - accuracy: 0.4479\n",
            "Epoch 2/100\n",
            "18/18 [==============================] - 0s 1ms/step - loss: 0.6922 - accuracy: 0.5729\n",
            "Epoch 3/100\n",
            "18/18 [==============================] - 0s 1ms/step - loss: 0.6851 - accuracy: 0.6233\n",
            "Epoch 4/100\n",
            "18/18 [==============================] - 0s 1ms/step - loss: 0.6801 - accuracy: 0.6337\n",
            "Epoch 5/100\n",
            "18/18 [==============================] - 0s 1ms/step - loss: 0.6762 - accuracy: 0.6389\n",
            "Epoch 6/100\n",
            "18/18 [==============================] - 0s 1ms/step - loss: 0.6729 - accuracy: 0.6372\n",
            "Epoch 7/100\n",
            "18/18 [==============================] - 0s 1ms/step - loss: 0.6703 - accuracy: 0.6389\n",
            "Epoch 8/100\n",
            "18/18 [==============================] - 0s 1ms/step - loss: 0.6677 - accuracy: 0.6406\n",
            "Epoch 9/100\n",
            "18/18 [==============================] - 0s 1ms/step - loss: 0.6656 - accuracy: 0.6406\n",
            "Epoch 10/100\n",
            "18/18 [==============================] - 0s 1ms/step - loss: 0.6632 - accuracy: 0.6389\n",
            "Epoch 11/100\n",
            "18/18 [==============================] - 0s 1ms/step - loss: 0.6613 - accuracy: 0.6389\n",
            "Epoch 12/100\n",
            "18/18 [==============================] - 0s 1ms/step - loss: 0.6589 - accuracy: 0.6389\n",
            "Epoch 13/100\n",
            "18/18 [==============================] - 0s 1ms/step - loss: 0.6570 - accuracy: 0.6389\n",
            "Epoch 14/100\n",
            "18/18 [==============================] - 0s 2ms/step - loss: 0.6549 - accuracy: 0.6389\n",
            "Epoch 15/100\n",
            "18/18 [==============================] - 0s 1ms/step - loss: 0.6529 - accuracy: 0.6354\n",
            "Epoch 16/100\n",
            "18/18 [==============================] - 0s 1ms/step - loss: 0.6508 - accuracy: 0.6372\n",
            "Epoch 17/100\n",
            "18/18 [==============================] - 0s 1ms/step - loss: 0.6492 - accuracy: 0.6354\n",
            "Epoch 18/100\n",
            "18/18 [==============================] - 0s 1ms/step - loss: 0.6465 - accuracy: 0.6337\n",
            "Epoch 19/100\n",
            "18/18 [==============================] - 0s 1ms/step - loss: 0.6443 - accuracy: 0.6337\n",
            "Epoch 20/100\n",
            "18/18 [==============================] - 0s 1ms/step - loss: 0.6422 - accuracy: 0.6372\n",
            "Epoch 21/100\n",
            "18/18 [==============================] - 0s 1ms/step - loss: 0.6400 - accuracy: 0.6354\n",
            "Epoch 22/100\n",
            "18/18 [==============================] - 0s 1ms/step - loss: 0.6378 - accuracy: 0.6337\n",
            "Epoch 23/100\n",
            "18/18 [==============================] - 0s 1ms/step - loss: 0.6353 - accuracy: 0.6389\n",
            "Epoch 24/100\n",
            "18/18 [==============================] - 0s 2ms/step - loss: 0.6334 - accuracy: 0.6389\n",
            "Epoch 25/100\n",
            "18/18 [==============================] - 0s 1ms/step - loss: 0.6315 - accuracy: 0.6372\n",
            "Epoch 26/100\n",
            "18/18 [==============================] - 0s 1ms/step - loss: 0.6290 - accuracy: 0.6354\n",
            "Epoch 27/100\n",
            "18/18 [==============================] - 0s 1ms/step - loss: 0.6265 - accuracy: 0.6354\n",
            "Epoch 28/100\n",
            "18/18 [==============================] - 0s 1ms/step - loss: 0.6247 - accuracy: 0.6372\n",
            "Epoch 29/100\n",
            "18/18 [==============================] - 0s 1ms/step - loss: 0.6223 - accuracy: 0.6458\n",
            "Epoch 30/100\n",
            "18/18 [==============================] - 0s 1ms/step - loss: 0.6200 - accuracy: 0.6510\n",
            "Epoch 31/100\n",
            "18/18 [==============================] - 0s 1ms/step - loss: 0.6182 - accuracy: 0.6528\n",
            "Epoch 32/100\n",
            "18/18 [==============================] - 0s 1ms/step - loss: 0.6157 - accuracy: 0.6545\n",
            "Epoch 33/100\n",
            "18/18 [==============================] - 0s 2ms/step - loss: 0.6136 - accuracy: 0.6528\n",
            "Epoch 34/100\n",
            "18/18 [==============================] - 0s 1ms/step - loss: 0.6116 - accuracy: 0.6580\n",
            "Epoch 35/100\n",
            "18/18 [==============================] - 0s 1ms/step - loss: 0.6096 - accuracy: 0.6528\n",
            "Epoch 36/100\n",
            "18/18 [==============================] - 0s 1ms/step - loss: 0.6076 - accuracy: 0.6649\n",
            "Epoch 37/100\n",
            "18/18 [==============================] - 0s 1ms/step - loss: 0.6056 - accuracy: 0.6701\n",
            "Epoch 38/100\n",
            "18/18 [==============================] - 0s 1ms/step - loss: 0.6035 - accuracy: 0.6701\n",
            "Epoch 39/100\n",
            "18/18 [==============================] - 0s 1ms/step - loss: 0.6015 - accuracy: 0.6736\n",
            "Epoch 40/100\n",
            "18/18 [==============================] - 0s 1ms/step - loss: 0.5998 - accuracy: 0.6771\n",
            "Epoch 41/100\n",
            "18/18 [==============================] - 0s 1ms/step - loss: 0.5979 - accuracy: 0.6840\n",
            "Epoch 42/100\n",
            "18/18 [==============================] - 0s 1ms/step - loss: 0.5960 - accuracy: 0.6875\n",
            "Epoch 43/100\n",
            "18/18 [==============================] - 0s 1ms/step - loss: 0.5943 - accuracy: 0.6840\n",
            "Epoch 44/100\n",
            "18/18 [==============================] - 0s 1ms/step - loss: 0.5925 - accuracy: 0.6823\n",
            "Epoch 45/100\n",
            "18/18 [==============================] - 0s 1ms/step - loss: 0.5913 - accuracy: 0.6910\n",
            "Epoch 46/100\n",
            "18/18 [==============================] - 0s 1ms/step - loss: 0.5895 - accuracy: 0.6858\n",
            "Epoch 47/100\n",
            "18/18 [==============================] - 0s 1ms/step - loss: 0.5874 - accuracy: 0.6910\n",
            "Epoch 48/100\n",
            "18/18 [==============================] - 0s 1ms/step - loss: 0.5860 - accuracy: 0.6944\n",
            "Epoch 49/100\n",
            "18/18 [==============================] - 0s 1ms/step - loss: 0.5842 - accuracy: 0.6962\n",
            "Epoch 50/100\n",
            "18/18 [==============================] - 0s 1ms/step - loss: 0.5828 - accuracy: 0.6944\n",
            "Epoch 51/100\n",
            "18/18 [==============================] - 0s 2ms/step - loss: 0.5813 - accuracy: 0.6997\n",
            "Epoch 52/100\n",
            "18/18 [==============================] - 0s 1ms/step - loss: 0.5802 - accuracy: 0.7014\n",
            "Epoch 53/100\n",
            "18/18 [==============================] - 0s 1ms/step - loss: 0.5785 - accuracy: 0.7014\n",
            "Epoch 54/100\n",
            "18/18 [==============================] - 0s 1ms/step - loss: 0.5770 - accuracy: 0.6997\n",
            "Epoch 55/100\n",
            "18/18 [==============================] - 0s 2ms/step - loss: 0.5755 - accuracy: 0.6997\n",
            "Epoch 56/100\n",
            "18/18 [==============================] - 0s 1ms/step - loss: 0.5742 - accuracy: 0.7031\n",
            "Epoch 57/100\n",
            "18/18 [==============================] - 0s 1ms/step - loss: 0.5730 - accuracy: 0.7031\n",
            "Epoch 58/100\n",
            "18/18 [==============================] - 0s 1ms/step - loss: 0.5716 - accuracy: 0.7066\n",
            "Epoch 59/100\n",
            "18/18 [==============================] - 0s 1ms/step - loss: 0.5704 - accuracy: 0.7066\n",
            "Epoch 60/100\n",
            "18/18 [==============================] - 0s 1ms/step - loss: 0.5690 - accuracy: 0.7049\n",
            "Epoch 61/100\n",
            "18/18 [==============================] - 0s 1ms/step - loss: 0.5686 - accuracy: 0.7083\n",
            "Epoch 62/100\n",
            "18/18 [==============================] - 0s 2ms/step - loss: 0.5666 - accuracy: 0.7083\n",
            "Epoch 63/100\n",
            "18/18 [==============================] - 0s 1ms/step - loss: 0.5656 - accuracy: 0.7049\n",
            "Epoch 64/100\n",
            "18/18 [==============================] - 0s 1ms/step - loss: 0.5643 - accuracy: 0.7118\n",
            "Epoch 65/100\n",
            "18/18 [==============================] - 0s 1ms/step - loss: 0.5634 - accuracy: 0.7083\n",
            "Epoch 66/100\n",
            "18/18 [==============================] - 0s 1ms/step - loss: 0.5622 - accuracy: 0.7101\n",
            "Epoch 67/100\n",
            "18/18 [==============================] - 0s 1ms/step - loss: 0.5617 - accuracy: 0.7153\n",
            "Epoch 68/100\n",
            "18/18 [==============================] - 0s 1ms/step - loss: 0.5599 - accuracy: 0.7118\n",
            "Epoch 69/100\n",
            "18/18 [==============================] - 0s 1ms/step - loss: 0.5588 - accuracy: 0.7083\n",
            "Epoch 70/100\n",
            "18/18 [==============================] - 0s 1ms/step - loss: 0.5580 - accuracy: 0.7135\n",
            "Epoch 71/100\n",
            "18/18 [==============================] - 0s 1ms/step - loss: 0.5570 - accuracy: 0.7135\n",
            "Epoch 72/100\n",
            "18/18 [==============================] - 0s 1ms/step - loss: 0.5557 - accuracy: 0.7101\n",
            "Epoch 73/100\n",
            "18/18 [==============================] - 0s 1ms/step - loss: 0.5551 - accuracy: 0.7135\n",
            "Epoch 74/100\n",
            "18/18 [==============================] - 0s 1ms/step - loss: 0.5541 - accuracy: 0.7135\n",
            "Epoch 75/100\n",
            "18/18 [==============================] - 0s 1ms/step - loss: 0.5530 - accuracy: 0.7153\n",
            "Epoch 76/100\n",
            "18/18 [==============================] - 0s 1ms/step - loss: 0.5517 - accuracy: 0.7170\n",
            "Epoch 77/100\n",
            "18/18 [==============================] - 0s 1ms/step - loss: 0.5513 - accuracy: 0.7188\n",
            "Epoch 78/100\n",
            "18/18 [==============================] - 0s 1ms/step - loss: 0.5501 - accuracy: 0.7170\n",
            "Epoch 79/100\n",
            "18/18 [==============================] - 0s 1ms/step - loss: 0.5493 - accuracy: 0.7222\n",
            "Epoch 80/100\n",
            "18/18 [==============================] - 0s 1ms/step - loss: 0.5481 - accuracy: 0.7205\n",
            "Epoch 81/100\n",
            "18/18 [==============================] - 0s 1ms/step - loss: 0.5478 - accuracy: 0.7222\n",
            "Epoch 82/100\n",
            "18/18 [==============================] - 0s 1ms/step - loss: 0.5465 - accuracy: 0.7257\n",
            "Epoch 83/100\n",
            "18/18 [==============================] - 0s 1ms/step - loss: 0.5453 - accuracy: 0.7240\n",
            "Epoch 84/100\n",
            "18/18 [==============================] - 0s 1ms/step - loss: 0.5451 - accuracy: 0.7309\n",
            "Epoch 85/100\n",
            "18/18 [==============================] - 0s 1ms/step - loss: 0.5438 - accuracy: 0.7257\n",
            "Epoch 86/100\n",
            "18/18 [==============================] - 0s 1ms/step - loss: 0.5429 - accuracy: 0.7240\n",
            "Epoch 87/100\n",
            "18/18 [==============================] - 0s 2ms/step - loss: 0.5428 - accuracy: 0.7292\n",
            "Epoch 88/100\n",
            "18/18 [==============================] - 0s 2ms/step - loss: 0.5420 - accuracy: 0.7378\n",
            "Epoch 89/100\n",
            "18/18 [==============================] - 0s 1ms/step - loss: 0.5422 - accuracy: 0.7222\n",
            "Epoch 90/100\n",
            "18/18 [==============================] - 0s 1ms/step - loss: 0.5399 - accuracy: 0.7344\n",
            "Epoch 91/100\n",
            "18/18 [==============================] - 0s 1ms/step - loss: 0.5386 - accuracy: 0.7378\n",
            "Epoch 92/100\n",
            "18/18 [==============================] - 0s 1ms/step - loss: 0.5384 - accuracy: 0.7222\n",
            "Epoch 93/100\n",
            "18/18 [==============================] - 0s 1ms/step - loss: 0.5369 - accuracy: 0.7292\n",
            "Epoch 94/100\n",
            "18/18 [==============================] - 0s 1ms/step - loss: 0.5362 - accuracy: 0.7344\n",
            "Epoch 95/100\n",
            "18/18 [==============================] - 0s 1ms/step - loss: 0.5355 - accuracy: 0.7361\n",
            "Epoch 96/100\n",
            "18/18 [==============================] - 0s 1ms/step - loss: 0.5352 - accuracy: 0.7326\n",
            "Epoch 97/100\n",
            "18/18 [==============================] - 0s 1ms/step - loss: 0.5350 - accuracy: 0.7344\n",
            "Epoch 98/100\n",
            "18/18 [==============================] - 0s 1ms/step - loss: 0.5331 - accuracy: 0.7413\n",
            "Epoch 99/100\n",
            "18/18 [==============================] - 0s 1ms/step - loss: 0.5327 - accuracy: 0.7309\n",
            "Epoch 100/100\n",
            "18/18 [==============================] - 0s 1ms/step - loss: 0.5316 - accuracy: 0.7274\n"
          ],
          "name": "stdout"
        }
      ]
    },
    {
      "cell_type": "code",
      "metadata": {
        "id": "dkpyOTaZcstV",
        "colab": {
          "base_uri": "https://localhost:8080/",
          "height": 282
        },
        "outputId": "624537af-a5fb-473b-f025-d37917208769"
      },
      "source": [
        "import matplotlib.pyplot as plt\n",
        "\n",
        "plt.plot(history.history['loss'])"
      ],
      "execution_count": null,
      "outputs": [
        {
          "output_type": "execute_result",
          "data": {
            "text/plain": [
              "[<matplotlib.lines.Line2D at 0x7fe8de7955f8>]"
            ]
          },
          "metadata": {
            "tags": []
          },
          "execution_count": 46
        },
        {
          "output_type": "display_data",
          "data": {
            "image/png": "[encoded data removed]",
            "text/plain": [
              "<Figure size 432x288 with 1 Axes>"
            ]
          },
          "metadata": {
            "tags": [],
            "needs_background": "light"
          }
        }
      ]
    },
    {
      "cell_type": "code",
      "metadata": {
        "id": "lkL7sYvbLnfz"
      },
      "source": [
        "y_pred = model.predict_classes(x_test)"
      ],
      "execution_count": null,
      "outputs": []
    },
    {
      "cell_type": "code",
      "metadata": {
        "id": "3nyHArZZMIVn",
        "colab": {
          "base_uri": "https://localhost:8080/"
        },
        "outputId": "ea8bb126-e70e-44b1-9039-105ff78d6f7b"
      },
      "source": [
        "y_test"
      ],
      "execution_count": null,
      "outputs": [
        {
          "output_type": "execute_result",
          "data": {
            "text/plain": [
              "array([1, 0, 0, 1, 0, 0, 1, 1, 0, 0, 1, 1, 0, 0, 0, 0, 1, 0, 0, 0, 1, 1,\n",
              "       0, 0, 0, 0, 0, 0, 0, 0, 0, 0, 0, 0, 0, 1, 1, 0, 0, 0, 0, 0, 0, 1,\n",
              "       1, 0, 0, 1, 1, 1, 0, 0, 1, 0, 0, 0, 0, 1, 1, 1, 1, 0, 0, 1, 1, 1,\n",
              "       1, 0, 0, 0, 0, 0, 0, 0, 1, 0, 0, 0, 0, 0, 0, 0, 0, 0, 0, 0, 1, 0,\n",
              "       1, 0, 0, 0, 0, 0, 0, 0, 1, 0, 1, 1, 0, 0, 0, 0, 0, 1, 0, 0, 0, 1,\n",
              "       0, 1, 1, 1, 1, 1, 0, 0, 0, 1, 0, 0, 0, 0, 0, 0, 0, 1, 0, 0, 0, 0,\n",
              "       0, 1, 0, 1, 0, 1, 1, 0, 0, 0, 0, 0, 1, 0, 0, 0, 0, 1, 0, 1, 0, 0,\n",
              "       1, 0, 0, 0, 1, 1, 1, 1, 0, 0, 0, 1, 0, 0, 0, 0, 0, 0, 1, 1, 0, 0,\n",
              "       0, 0, 0, 0, 1, 1, 0, 1, 1, 0, 1, 1, 1, 0, 0, 0])"
            ]
          },
          "metadata": {
            "tags": []
          },
          "execution_count": 48
        }
      ]
    },
    {
      "cell_type": "code",
      "metadata": {
        "id": "cRLZmcQGMJ4V",
        "colab": {
          "base_uri": "https://localhost:8080/"
        },
        "outputId": "93c1a065-0785-476e-c9c6-829fdbd0d21c"
      },
      "source": [
        "y_pred"
      ],
      "execution_count": null,
      "outputs": [
        {
          "output_type": "execute_result",
          "data": {
            "text/plain": [
              "array([[1],\n",
              "       [0],\n",
              "       [0],\n",
              "       [1],\n",
              "       [0],\n",
              "       [0],\n",
              "       [1],\n",
              "       [1],\n",
              "       [1],\n",
              "       [0],\n",
              "       [1],\n",
              "       [1],\n",
              "       [0],\n",
              "       [0],\n",
              "       [0],\n",
              "       [0],\n",
              "       [1],\n",
              "       [0],\n",
              "       [1],\n",
              "       [0],\n",
              "       [0],\n",
              "       [0],\n",
              "       [0],\n",
              "       [0],\n",
              "       [0],\n",
              "       [0],\n",
              "       [0],\n",
              "       [1],\n",
              "       [0],\n",
              "       [0],\n",
              "       [1],\n",
              "       [0],\n",
              "       [0],\n",
              "       [0],\n",
              "       [0],\n",
              "       [0],\n",
              "       [1],\n",
              "       [0],\n",
              "       [0],\n",
              "       [1],\n",
              "       [0],\n",
              "       [0],\n",
              "       [0],\n",
              "       [1],\n",
              "       [1],\n",
              "       [0],\n",
              "       [0],\n",
              "       [0],\n",
              "       [0],\n",
              "       [0],\n",
              "       [0],\n",
              "       [0],\n",
              "       [1],\n",
              "       [0],\n",
              "       [0],\n",
              "       [0],\n",
              "       [0],\n",
              "       [0],\n",
              "       [0],\n",
              "       [0],\n",
              "       [1],\n",
              "       [0],\n",
              "       [0],\n",
              "       [0],\n",
              "       [0],\n",
              "       [1],\n",
              "       [1],\n",
              "       [0],\n",
              "       [0],\n",
              "       [0],\n",
              "       [0],\n",
              "       [0],\n",
              "       [0],\n",
              "       [1],\n",
              "       [0],\n",
              "       [0],\n",
              "       [0],\n",
              "       [1],\n",
              "       [0],\n",
              "       [0],\n",
              "       [0],\n",
              "       [0],\n",
              "       [0],\n",
              "       [0],\n",
              "       [0],\n",
              "       [0],\n",
              "       [0],\n",
              "       [0],\n",
              "       [1],\n",
              "       [0],\n",
              "       [0],\n",
              "       [0],\n",
              "       [0],\n",
              "       [0],\n",
              "       [1],\n",
              "       [0],\n",
              "       [0],\n",
              "       [0],\n",
              "       [1],\n",
              "       [0],\n",
              "       [0],\n",
              "       [0],\n",
              "       [0],\n",
              "       [0],\n",
              "       [0],\n",
              "       [0],\n",
              "       [0],\n",
              "       [0],\n",
              "       [0],\n",
              "       [1],\n",
              "       [0],\n",
              "       [0],\n",
              "       [0],\n",
              "       [0],\n",
              "       [1],\n",
              "       [0],\n",
              "       [0],\n",
              "       [1],\n",
              "       [0],\n",
              "       [1],\n",
              "       [0],\n",
              "       [0],\n",
              "       [0],\n",
              "       [1],\n",
              "       [0],\n",
              "       [0],\n",
              "       [0],\n",
              "       [0],\n",
              "       [1],\n",
              "       [0],\n",
              "       [0],\n",
              "       [0],\n",
              "       [0],\n",
              "       [1],\n",
              "       [0],\n",
              "       [0],\n",
              "       [0],\n",
              "       [0],\n",
              "       [1],\n",
              "       [0],\n",
              "       [0],\n",
              "       [1],\n",
              "       [0],\n",
              "       [0],\n",
              "       [0],\n",
              "       [0],\n",
              "       [0],\n",
              "       [0],\n",
              "       [0],\n",
              "       [0],\n",
              "       [0],\n",
              "       [0],\n",
              "       [0],\n",
              "       [0],\n",
              "       [1],\n",
              "       [0],\n",
              "       [1],\n",
              "       [0],\n",
              "       [0],\n",
              "       [1],\n",
              "       [1],\n",
              "       [1],\n",
              "       [0],\n",
              "       [0],\n",
              "       [1],\n",
              "       [0],\n",
              "       [0],\n",
              "       [0],\n",
              "       [0],\n",
              "       [0],\n",
              "       [0],\n",
              "       [0],\n",
              "       [0],\n",
              "       [0],\n",
              "       [1],\n",
              "       [0],\n",
              "       [0],\n",
              "       [0],\n",
              "       [0],\n",
              "       [0],\n",
              "       [0],\n",
              "       [0],\n",
              "       [0],\n",
              "       [1],\n",
              "       [0],\n",
              "       [0],\n",
              "       [0],\n",
              "       [0],\n",
              "       [0],\n",
              "       [0],\n",
              "       [0],\n",
              "       [0]], dtype=int32)"
            ]
          },
          "metadata": {
            "tags": []
          },
          "execution_count": 49
        }
      ]
    },
    {
      "cell_type": "code",
      "metadata": {
        "id": "csg-Ibn9MZep"
      },
      "source": [
        "# Confusion Matrix "
      ],
      "execution_count": null,
      "outputs": []
    },
    {
      "cell_type": "code",
      "metadata": {
        "id": "ZNB164so-GBl",
        "colab": {
          "base_uri": "https://localhost:8080/"
        },
        "outputId": "e7617369-366a-4eed-debb-fc90a18f9afe"
      },
      "source": [
        "from sklearn.metrics import accuracy_score,confusion_matrix\n",
        "accuracy_score(y_test,y_pred)"
      ],
      "execution_count": null,
      "outputs": [
        {
          "output_type": "execute_result",
          "data": {
            "text/plain": [
              "0.734375"
            ]
          },
          "metadata": {
            "tags": []
          },
          "execution_count": 51
        }
      ]
    },
    {
      "cell_type": "code",
      "metadata": {
        "id": "Co7DuCkJZyAG",
        "colab": {
          "base_uri": "https://localhost:8080/"
        },
        "outputId": "21947b19-d074-42dd-f0e8-824e35145c6d"
      },
      "source": [
        "np.unique(y_test,return_counts=True)"
      ],
      "execution_count": null,
      "outputs": [
        {
          "output_type": "execute_result",
          "data": {
            "text/plain": [
              "(array([0, 1]), array([130,  62]))"
            ]
          },
          "metadata": {
            "tags": []
          },
          "execution_count": 53
        }
      ]
    },
    {
      "cell_type": "code",
      "metadata": {
        "id": "tXyLEVSS-Q_k",
        "colab": {
          "base_uri": "https://localhost:8080/"
        },
        "outputId": "930133ed-afe1-480e-98de-03d0c3f949c3"
      },
      "source": [
        "confusion_matrix(y_test,y_pred)"
      ],
      "execution_count": null,
      "outputs": [
        {
          "output_type": "execute_result",
          "data": {
            "text/plain": [
              "array([[115,  15],\n",
              "       [ 36,  26]])"
            ]
          },
          "metadata": {
            "tags": []
          },
          "execution_count": 52
        }
      ]
    },
    {
      "cell_type": "code",
      "metadata": {
        "id": "06qrSzMT-YDp"
      },
      "source": [
        "# It is a square matrix\n",
        "# It tells 4 different things\n",
        "# True/False Negative \n",
        "# True/False Postive"
      ],
      "execution_count": null,
      "outputs": []
    },
    {
      "cell_type": "code",
      "metadata": {
        "id": "KhCiGlRRajvB",
        "colab": {
          "base_uri": "https://localhost:8080/"
        },
        "outputId": "755dc067-ea9b-49c6-89a4-a8eab8b1f852"
      },
      "source": [
        "#Sum of True Values/Sum of total values\n",
        "(115+26)/(115+26+15+36)"
      ],
      "execution_count": null,
      "outputs": [
        {
          "output_type": "execute_result",
          "data": {
            "text/plain": [
              "0.734375"
            ]
          },
          "metadata": {
            "tags": []
          },
          "execution_count": 54
        }
      ]
    },
    {
      "cell_type": "code",
      "metadata": {
        "id": "NK02j2hUaveW",
        "colab": {
          "base_uri": "https://localhost:8080/"
        },
        "outputId": "216bdedc-7a86-4c25-a6a2-0f6b3bae4840"
      },
      "source": [
        "from sklearn.metrics import classification_report\n",
        "print(classification_report(y_pred,y_test))"
      ],
      "execution_count": null,
      "outputs": [
        {
          "output_type": "stream",
          "text": [
            "              precision    recall  f1-score   support\n",
            "\n",
            "           0       0.88      0.76      0.82       151\n",
            "           1       0.42      0.63      0.50        41\n",
            "\n",
            "    accuracy                           0.73       192\n",
            "   macro avg       0.65      0.70      0.66       192\n",
            "weighted avg       0.79      0.73      0.75       192\n",
            "\n"
          ],
          "name": "stdout"
        }
      ]
    },
    {
      "cell_type": "code",
      "metadata": {
        "id": "QE1FoIsJbJf7"
      },
      "source": [
        "# Assignment : Check what techniques can be used to increase the metric scores"
      ],
      "execution_count": null,
      "outputs": []
    },
    {
      "cell_type": "code",
      "metadata": {
        "id": "v0yom3mPbmZ5"
      },
      "source": [
        ""
      ],
      "execution_count": null,
      "outputs": []
    }
  ]
}